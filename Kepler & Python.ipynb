{
 "cells": [
  {
   "cell_type": "code",
   "execution_count": 1,
   "metadata": {},
   "outputs": [],
   "source": [
    "#!pip install keplergl\n",
    "#!pip install geopandas\n",
    "#!pip install sodapy\n",
    "\n",
    "from sodapy import Socrata\n",
    "import geopandas as gpd\n",
    "from keplergl import KeplerGl"
   ]
  },
  {
   "cell_type": "code",
   "execution_count": 2,
   "metadata": {},
   "outputs": [],
   "source": [
    "#insert your own token to avoid throttling\n",
    "#found at https://data.cityofchicago.org/profile\n",
    "token = None"
   ]
  },
  {
   "cell_type": "code",
   "execution_count": 3,
   "metadata": {},
   "outputs": [],
   "source": [
    "# creating the date range we'll use for this notebook\n",
    "start = '2019-01-01'\n",
    "end = '2020-01-31'"
   ]
  },
  {
   "cell_type": "code",
   "execution_count": 4,
   "metadata": {},
   "outputs": [],
   "source": [
    "def get_rides(start, end, token=None):\n",
    "    '''\n",
    "    Creates a request for the SODA API datasets. \n",
    "    \n",
    "    returns: geopandas coordinates for rides\n",
    "    '''\n",
    "    #instantiate the Socrata client\n",
    "    client = Socrata(\n",
    "        domain = 'data.cityofchicago.org',\n",
    "        app_token=token, timeout=100000\n",
    "    )\n",
    "    \n",
    "    #set up the SoSQL call\n",
    "    select = 'pickup_centroid_location AS geometry, COUNT(trip_id) AS rides'\n",
    "    group = 'geometry' \n",
    "    where = f'trip_start_timestamp between \"{start}\" and \"{end}\"'\n",
    "    \n",
    "    #make the call for the data, specifying the correct dataset\n",
    "    results = client.get(\n",
    "        dataset_identifier='m6dm-c72p',\n",
    "        select=select, group=group, where=where,\n",
    "        content_type = 'geojson', limit=100_000\n",
    "    )\n",
    "    #close our conneciton\n",
    "    client.close()\n",
    "    \n",
    "    #add data to geopandas\n",
    "    gdf = gpd.GeoDataFrame.from_features(results).dropna()\n",
    "    gdf.rides = gdf.rides.astype('int32')\n",
    "    \n",
    "    return gdf"
   ]
  },
  {
   "cell_type": "code",
   "execution_count": null,
   "metadata": {},
   "outputs": [
    {
     "name": "stderr",
     "output_type": "stream",
     "text": [
      "WARNING:root:Requests made without an app_token will be subject to strict throttling limits.\n"
     ]
    }
   ],
   "source": [
    "%%time\n",
    "#calling our data gathering funciton\n",
    "gdf_point = get_rides(start, end, token)"
   ]
  },
  {
   "cell_type": "code",
   "execution_count": null,
   "metadata": {},
   "outputs": [],
   "source": [
    "defining helper functions to load/save map config files\n",
    "#(to maintain similar visuals)\n",
    "\n",
    "def open_config(file_name):\n",
    "    '''\n",
    "    helper function to load preconfigured Kepler configs\n",
    "    '''\n",
    "    try: \n",
    "        current_file = json.load(open(file_name, 'r'))\n",
    "        print('config loaded')\n",
    "        return current_file\n",
    "    except FileNotFoundError:\n",
    "        print('no config file found. plz initialize map, and use map.config')\n",
    "        return {}\n",
    "\n",
    "    \n",
    "def save_config(config, file_name):\n",
    "    '''\n",
    "    helper function to save the current config for Kepler\n",
    "    '''\n",
    "    def save():\n",
    "        with open(file_name, 'w') as f:\n",
    "                json.dump(config, f)\n",
    "    try:\n",
    "        current_file = json.load(open(file_name, 'r'))\n",
    "        if config != current_file:\n",
    "            print('changes detected. saving current config')\n",
    "            save()\n",
    "        else:\n",
    "            print('no changes detected')\n",
    "            \n",
    "    except FileNotFoundError:\n",
    "        print('no existing file in directory. saving current config')\n",
    "        save()"
   ]
  },
  {
   "cell_type": "code",
   "execution_count": null,
   "metadata": {},
   "outputs": [],
   "source": [
    "point_config = open_config('configs/point_config.json')"
   ]
  },
  {
   "cell_type": "code",
   "execution_count": null,
   "metadata": {},
   "outputs": [],
   "source": [
    "map_1 = KeplerGl(height=900, config=point_config)\n",
    "map_1.add_data(gdf_point, 'rides')\n",
    "map_1"
   ]
  },
  {
   "cell_type": "code",
   "execution_count": null,
   "metadata": {},
   "outputs": [],
   "source": [
    "save_config(map_1.config, file_name='configs/point_config.json')"
   ]
  }
 ],
 "metadata": {
  "kernelspec": {
   "display_name": "Python 3",
   "language": "python",
   "name": "python3"
  },
  "language_info": {
   "codemirror_mode": {
    "name": "ipython",
    "version": 3
   },
   "file_extension": ".py",
   "mimetype": "text/x-python",
   "name": "python",
   "nbconvert_exporter": "python",
   "pygments_lexer": "ipython3",
   "version": "3.7.7"
  }
 },
 "nbformat": 4,
 "nbformat_minor": 4
}
