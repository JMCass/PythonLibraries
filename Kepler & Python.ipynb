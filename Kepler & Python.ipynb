{
 "cells": [
  {
   "cell_type": "code",
   "execution_count": 1,
   "metadata": {},
   "outputs": [],
   "source": [
    "#!pip install keplergl\n",
    "#!pip install geopandas\n",
    "#!pip install sodapy\n",
    "\n",
    "from sodapy import Socrata\n",
    "import geopandas as gpd\n",
    "from keplergl import KeplerGl"
   ]
  },
  {
   "cell_type": "code",
   "execution_count": 2,
   "metadata": {},
   "outputs": [],
   "source": [
    "#insert your own token to avoid throttling\n",
    "#found at https://data.cityofchicago.org/profile\n",
    "token = None"
   ]
  },
  {
   "cell_type": "code",
   "execution_count": 3,
   "metadata": {},
   "outputs": [],
   "source": [
    "def get_rides(start, end, token=None):\n",
    "    '''\n",
    "    Creates a request for the SODA API datasets. \n",
    "    \n",
    "    returns: geopandas coordinates for rides\n",
    "    '''\n",
    "    #instantiate the Socrata client\n",
    "    client = Socrata(\n",
    "        domain = 'data.cityofchicago.org',\n",
    "        app_token=token, timeout=100000\n",
    "    )\n",
    "    \n",
    "    #set up the SoSQL call\n",
    "    select = 'pickup_centroid_location AS geometry, COUNT(trip_id) AS rides'\n",
    "    group = 'geometry' \n",
    "    where = f'trip_start_timestamp between \"{start}\" and \"{end}\"'\n",
    "    \n",
    "    #make the call for the data, specifying the correct dataset\n",
    "    results = client.get(\n",
    "        dataset_identifier='m6dm-c72p',\n",
    "        select=select, group=group, where=where,\n",
    "        content_type = 'geojson', limit=100_000\n",
    "    )\n",
    "    #close our conneciton\n",
    "    client.close()\n",
    "    \n",
    "    #add data to geopandas\n",
    "    gdf = gpd.GeoDataFrame.from_features(results).dropna()\n",
    "    gdf.rides = gdf.rides.astype('int32')\n",
    "    \n",
    "    return gdf"
   ]
  },
  {
   "cell_type": "code",
   "execution_count": 4,
   "metadata": {},
   "outputs": [],
   "source": [
    "# creating the date range we'll use for this notebook\n",
    "start = '2019-01-01'\n",
    "end = '2020-01-31'"
   ]
  },
  {
   "cell_type": "code",
   "execution_count": 5,
   "metadata": {},
   "outputs": [
    {
     "name": "stderr",
     "output_type": "stream",
     "text": [
      "WARNING:root:Requests made without an app_token will be subject to strict throttling limits.\n"
     ]
    },
    {
     "name": "stdout",
     "output_type": "stream",
     "text": [
      "CPU times: user 77.1 ms, sys: 48.5 ms, total: 126 ms\n",
      "Wall time: 8min 1s\n"
     ]
    }
   ],
   "source": [
    "%%time\n",
    "#calling our data gathering funciton\n",
    "gdf_point = get_rides(start, end, token)"
   ]
  },
  {
   "cell_type": "code",
   "execution_count": 7,
   "metadata": {},
   "outputs": [
    {
     "name": "stdout",
     "output_type": "stream",
     "text": [
      "User Guide: https://github.com/keplergl/kepler.gl/blob/master/docs/keplergl-jupyter/user-guide.md\n"
     ]
    },
    {
     "data": {
      "application/vnd.jupyter.widget-view+json": {
       "model_id": "9e574719972a4fe485141390659e5039",
       "version_major": 2,
       "version_minor": 0
      },
      "text/plain": [
       "KeplerGl(data={'rides': {'index': [0, 1, 2, 3, 4, 5, 6, 7, 8, 9, 10, 11, 12, 13, 14, 15, 16, 17, 18, 19, 20, 2…"
      ]
     },
     "metadata": {},
     "output_type": "display_data"
    }
   ],
   "source": [
    "map_1 = KeplerGl(height=900)\n",
    "map_1.add_data(gdf_point, 'rides')\n",
    "map_1"
   ]
  },
  {
   "cell_type": "code",
   "execution_count": null,
   "metadata": {},
   "outputs": [],
   "source": []
  }
 ],
 "metadata": {
  "kernelspec": {
   "display_name": "Python 3",
   "language": "python",
   "name": "python3"
  },
  "language_info": {
   "codemirror_mode": {
    "name": "ipython",
    "version": 3
   },
   "file_extension": ".py",
   "mimetype": "text/x-python",
   "name": "python",
   "nbconvert_exporter": "python",
   "pygments_lexer": "ipython3",
   "version": "3.7.7"
  }
 },
 "nbformat": 4,
 "nbformat_minor": 4
}
